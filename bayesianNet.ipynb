{
 "cells": [
  {
   "cell_type": "markdown",
   "id": "ca8242f6",
   "metadata": {},
   "source": [
    "##  Construir una red bayesianna a partir del conocimiento experto\n"
   ]
  },
  {
   "cell_type": "markdown",
   "id": "d9cca070",
   "metadata": {},
   "source": [
    "## Description:\n",
    "__Context:__\n",
    "Predict next-day rain by training classification models on the target variable RainTomorrow.\n",
    "\n",
    "__Content:__\n",
    "This dataset contains about 10 years of daily weather observations from many locations across Australia.\n",
    "\n",
    "\n",
    "__RainTomorrow__ is the target variable to predict. It means -- did it rain the next day, Yes or No? This column is Yes if the rain for that day was 1mm or more.\n",
    "\n",
    "Source & Acknowledgements\n",
    "Observations were drawn from numerous weather stations. The daily observations are available from [link](http://www.bom.gov.au/climate/data).\n",
    "An example of latest weather observations in Canberra:[link](http://www.bom.gov.au/climate/dwo/IDCJDW2801.latest.shtml)\n",
    "\n",
    "Definitions adapted from http://www.bom.gov.au/climate/dwo/IDCJDW0000.shtml\n",
    "Data source:[source](http://www.bom.gov.au/climate/dwo/ and http://www.bom.gov.au/climate/data).\n",
    "\n",
    "Copyright Commonwealth of Australia 2010, Bureau of Meteorology."
   ]
  },
  {
   "cell_type": "markdown",
   "id": "c1ce30fa",
   "metadata": {},
   "source": [
    "### Lib\n",
    "- pybb(is a Python implementation of probabilistic and causal inference in Bayesian Belief Networks)\n",
    "- pandas\n",
    "- networkx para dibujar el grafo"
   ]
  },
  {
   "cell_type": "code",
   "execution_count": 1,
   "id": "61ce6d12",
   "metadata": {},
   "outputs": [],
   "source": [
    "\n",
    "import pandas as pd\n",
    "import matplotlib.pyplot as plt\n",
    "import networkx as nx\n",
    "## crear grafo aciclico dirigido\n",
    "from pybbn.graph.dag import Bbn\n",
    "from pybbn.graph.edge import Edge, EdgeType\n",
    "from pybbn.graph.jointree import EvidenceBuilder\n",
    "from pybbn.graph.node import BbnNode\n",
    "from pybbn.graph.variable import Variable\n",
    "from pybbn.pptc.inferencecontroller import InferenceController\n"
   ]
  },
  {
   "cell_type": "code",
   "execution_count": 2,
   "id": "1334eb3d",
   "metadata": {},
   "outputs": [
    {
     "data": {
      "text/html": [
       "<div>\n",
       "<style scoped>\n",
       "    .dataframe tbody tr th:only-of-type {\n",
       "        vertical-align: middle;\n",
       "    }\n",
       "\n",
       "    .dataframe tbody tr th {\n",
       "        vertical-align: top;\n",
       "    }\n",
       "\n",
       "    .dataframe thead th {\n",
       "        text-align: right;\n",
       "    }\n",
       "</style>\n",
       "<table border=\"1\" class=\"dataframe\">\n",
       "  <thead>\n",
       "    <tr style=\"text-align: right;\">\n",
       "      <th></th>\n",
       "      <th>Date</th>\n",
       "      <th>Location</th>\n",
       "      <th>MinTemp</th>\n",
       "      <th>MaxTemp</th>\n",
       "      <th>Rainfall</th>\n",
       "      <th>Evaporation</th>\n",
       "      <th>Sunshine</th>\n",
       "      <th>WindGustDir</th>\n",
       "      <th>WindGustSpeed</th>\n",
       "      <th>WindDir9am</th>\n",
       "      <th>...</th>\n",
       "      <th>Humidity9am</th>\n",
       "      <th>Humidity3pm</th>\n",
       "      <th>Pressure9am</th>\n",
       "      <th>Pressure3pm</th>\n",
       "      <th>Cloud9am</th>\n",
       "      <th>Cloud3pm</th>\n",
       "      <th>Temp9am</th>\n",
       "      <th>Temp3pm</th>\n",
       "      <th>RainToday</th>\n",
       "      <th>RainTomorrow</th>\n",
       "    </tr>\n",
       "  </thead>\n",
       "  <tbody>\n",
       "    <tr>\n",
       "      <th>0</th>\n",
       "      <td>2008-12-01</td>\n",
       "      <td>Albury</td>\n",
       "      <td>13.4</td>\n",
       "      <td>22.9</td>\n",
       "      <td>0.6</td>\n",
       "      <td>NaN</td>\n",
       "      <td>NaN</td>\n",
       "      <td>W</td>\n",
       "      <td>44.0</td>\n",
       "      <td>W</td>\n",
       "      <td>...</td>\n",
       "      <td>71.0</td>\n",
       "      <td>22.0</td>\n",
       "      <td>1007.7</td>\n",
       "      <td>1007.1</td>\n",
       "      <td>8.0</td>\n",
       "      <td>NaN</td>\n",
       "      <td>16.9</td>\n",
       "      <td>21.8</td>\n",
       "      <td>No</td>\n",
       "      <td>No</td>\n",
       "    </tr>\n",
       "    <tr>\n",
       "      <th>1</th>\n",
       "      <td>2008-12-02</td>\n",
       "      <td>Albury</td>\n",
       "      <td>7.4</td>\n",
       "      <td>25.1</td>\n",
       "      <td>0.0</td>\n",
       "      <td>NaN</td>\n",
       "      <td>NaN</td>\n",
       "      <td>WNW</td>\n",
       "      <td>44.0</td>\n",
       "      <td>NNW</td>\n",
       "      <td>...</td>\n",
       "      <td>44.0</td>\n",
       "      <td>25.0</td>\n",
       "      <td>1010.6</td>\n",
       "      <td>1007.8</td>\n",
       "      <td>NaN</td>\n",
       "      <td>NaN</td>\n",
       "      <td>17.2</td>\n",
       "      <td>24.3</td>\n",
       "      <td>No</td>\n",
       "      <td>No</td>\n",
       "    </tr>\n",
       "    <tr>\n",
       "      <th>2</th>\n",
       "      <td>2008-12-03</td>\n",
       "      <td>Albury</td>\n",
       "      <td>12.9</td>\n",
       "      <td>25.7</td>\n",
       "      <td>0.0</td>\n",
       "      <td>NaN</td>\n",
       "      <td>NaN</td>\n",
       "      <td>WSW</td>\n",
       "      <td>46.0</td>\n",
       "      <td>W</td>\n",
       "      <td>...</td>\n",
       "      <td>38.0</td>\n",
       "      <td>30.0</td>\n",
       "      <td>1007.6</td>\n",
       "      <td>1008.7</td>\n",
       "      <td>NaN</td>\n",
       "      <td>2.0</td>\n",
       "      <td>21.0</td>\n",
       "      <td>23.2</td>\n",
       "      <td>No</td>\n",
       "      <td>No</td>\n",
       "    </tr>\n",
       "    <tr>\n",
       "      <th>3</th>\n",
       "      <td>2008-12-04</td>\n",
       "      <td>Albury</td>\n",
       "      <td>9.2</td>\n",
       "      <td>28.0</td>\n",
       "      <td>0.0</td>\n",
       "      <td>NaN</td>\n",
       "      <td>NaN</td>\n",
       "      <td>NE</td>\n",
       "      <td>24.0</td>\n",
       "      <td>SE</td>\n",
       "      <td>...</td>\n",
       "      <td>45.0</td>\n",
       "      <td>16.0</td>\n",
       "      <td>1017.6</td>\n",
       "      <td>1012.8</td>\n",
       "      <td>NaN</td>\n",
       "      <td>NaN</td>\n",
       "      <td>18.1</td>\n",
       "      <td>26.5</td>\n",
       "      <td>No</td>\n",
       "      <td>No</td>\n",
       "    </tr>\n",
       "    <tr>\n",
       "      <th>4</th>\n",
       "      <td>2008-12-05</td>\n",
       "      <td>Albury</td>\n",
       "      <td>17.5</td>\n",
       "      <td>32.3</td>\n",
       "      <td>1.0</td>\n",
       "      <td>NaN</td>\n",
       "      <td>NaN</td>\n",
       "      <td>W</td>\n",
       "      <td>41.0</td>\n",
       "      <td>ENE</td>\n",
       "      <td>...</td>\n",
       "      <td>82.0</td>\n",
       "      <td>33.0</td>\n",
       "      <td>1010.8</td>\n",
       "      <td>1006.0</td>\n",
       "      <td>7.0</td>\n",
       "      <td>8.0</td>\n",
       "      <td>17.8</td>\n",
       "      <td>29.7</td>\n",
       "      <td>No</td>\n",
       "      <td>No</td>\n",
       "    </tr>\n",
       "  </tbody>\n",
       "</table>\n",
       "<p>5 rows × 23 columns</p>\n",
       "</div>"
      ],
      "text/plain": [
       "         Date Location  MinTemp  MaxTemp  Rainfall  Evaporation  Sunshine  \\\n",
       "0  2008-12-01   Albury     13.4     22.9       0.6          NaN       NaN   \n",
       "1  2008-12-02   Albury      7.4     25.1       0.0          NaN       NaN   \n",
       "2  2008-12-03   Albury     12.9     25.7       0.0          NaN       NaN   \n",
       "3  2008-12-04   Albury      9.2     28.0       0.0          NaN       NaN   \n",
       "4  2008-12-05   Albury     17.5     32.3       1.0          NaN       NaN   \n",
       "\n",
       "  WindGustDir  WindGustSpeed WindDir9am  ... Humidity9am  Humidity3pm  \\\n",
       "0           W           44.0          W  ...        71.0         22.0   \n",
       "1         WNW           44.0        NNW  ...        44.0         25.0   \n",
       "2         WSW           46.0          W  ...        38.0         30.0   \n",
       "3          NE           24.0         SE  ...        45.0         16.0   \n",
       "4           W           41.0        ENE  ...        82.0         33.0   \n",
       "\n",
       "   Pressure9am  Pressure3pm  Cloud9am  Cloud3pm  Temp9am  Temp3pm  RainToday  \\\n",
       "0       1007.7       1007.1       8.0       NaN     16.9     21.8         No   \n",
       "1       1010.6       1007.8       NaN       NaN     17.2     24.3         No   \n",
       "2       1007.6       1008.7       NaN       2.0     21.0     23.2         No   \n",
       "3       1017.6       1012.8       NaN       NaN     18.1     26.5         No   \n",
       "4       1010.8       1006.0       7.0       8.0     17.8     29.7         No   \n",
       "\n",
       "   RainTomorrow  \n",
       "0            No  \n",
       "1            No  \n",
       "2            No  \n",
       "3            No  \n",
       "4            No  \n",
       "\n",
       "[5 rows x 23 columns]"
      ]
     },
     "execution_count": 2,
     "metadata": {},
     "output_type": "execute_result"
    }
   ],
   "source": [
    "df=pd.read_csv(\"weatherAUS.csv\")\n",
    "df.head()"
   ]
  },
  {
   "cell_type": "code",
   "execution_count": 24,
   "id": "7370edcc",
   "metadata": {},
   "outputs": [
    {
     "data": {
      "text/plain": [
       "(145460, 23)"
      ]
     },
     "execution_count": 24,
     "metadata": {},
     "output_type": "execute_result"
    }
   ],
   "source": [
    "df.shape"
   ]
  },
  {
   "cell_type": "markdown",
   "id": "3f845ba9",
   "metadata": {},
   "source": [
    "Para trabajar con redes bayesianas necesitamos variables descretizadas.\n",
    "- Aqui en este caso abajo vemos que la tempeatura tiene 505 valores o hallazgo lo que complica mucho el calculo\n"
   ]
  },
  {
   "cell_type": "code",
   "execution_count": 4,
   "id": "75106aed",
   "metadata": {},
   "outputs": [
    {
     "data": {
      "text/plain": [
       " 20.0    885\n",
       " 19.0    843\n",
       " 19.8    840\n",
       " 20.4    834\n",
       " 19.9    823\n",
       "        ... \n",
       " 46.5      1\n",
       " 46.9      1\n",
       " 47.0      1\n",
       " 46.6      1\n",
       "-2.4       1\n",
       "Name: MaxTemp, Length: 505, dtype: int64"
      ]
     },
     "execution_count": 4,
     "metadata": {},
     "output_type": "execute_result"
    }
   ],
   "source": [
    "df['MaxTemp'].value_counts()"
   ]
  },
  {
   "cell_type": "code",
   "execution_count": 5,
   "id": "db64c21a",
   "metadata": {},
   "outputs": [
    {
     "name": "stdout",
     "output_type": "stream",
     "text": [
      "-4.8\n",
      "48.1\n",
      "23.22134827564685\n"
     ]
    }
   ],
   "source": [
    "print(df['MaxTemp'].min())\n",
    "print(df['MaxTemp'].max())\n",
    "print(df['MaxTemp'].mean())"
   ]
  },
  {
   "cell_type": "code",
   "execution_count": 7,
   "id": "27f4fcaa",
   "metadata": {},
   "outputs": [
    {
     "data": {
      "text/plain": [
       "0         12.8-30\n",
       "1         12.8-30\n",
       "2         12.8-30\n",
       "3         12.8-30\n",
       "4         30.4-48\n",
       "           ...   \n",
       "145455    12.8-30\n",
       "145456    12.8-30\n",
       "145457    12.8-30\n",
       "145458    12.8-30\n",
       "145459        NaN\n",
       "Name: MaxTemp, Length: 145460, dtype: category\n",
       "Categories (3, object): ['-4.8-12.8' < '12.8-30' < '30.4-48']"
      ]
     },
     "execution_count": 7,
     "metadata": {},
     "output_type": "execute_result"
    }
   ],
   "source": [
    "# se reduce en 3 valores en vez de 505\n",
    "pd.cut(df['MaxTemp'],bins=3,labels=['-4.8-12.8','12.8-30','30.4-48'])"
   ]
  },
  {
   "cell_type": "code",
   "execution_count": 3,
   "id": "ca466680",
   "metadata": {},
   "outputs": [],
   "source": [
    "#mramos el porcentaje de valores nulos en df\n",
    "\n",
    "copy=(df.isnull().sum()/df.shape[0]).to_frame().rename(columns={0:\"Por_nulos\"})\n"
   ]
  },
  {
   "cell_type": "code",
   "execution_count": 4,
   "id": "dfb10953",
   "metadata": {},
   "outputs": [
    {
     "data": {
      "text/html": [
       "<div>\n",
       "<style scoped>\n",
       "    .dataframe tbody tr th:only-of-type {\n",
       "        vertical-align: middle;\n",
       "    }\n",
       "\n",
       "    .dataframe tbody tr th {\n",
       "        vertical-align: top;\n",
       "    }\n",
       "\n",
       "    .dataframe thead th {\n",
       "        text-align: right;\n",
       "    }\n",
       "</style>\n",
       "<table border=\"1\" class=\"dataframe\">\n",
       "  <thead>\n",
       "    <tr style=\"text-align: right;\">\n",
       "      <th></th>\n",
       "      <th>Por_nulos</th>\n",
       "    </tr>\n",
       "  </thead>\n",
       "  <tbody>\n",
       "    <tr>\n",
       "      <th>Date</th>\n",
       "      <td>0.000000</td>\n",
       "    </tr>\n",
       "    <tr>\n",
       "      <th>Location</th>\n",
       "      <td>0.000000</td>\n",
       "    </tr>\n",
       "    <tr>\n",
       "      <th>MinTemp</th>\n",
       "      <td>0.010209</td>\n",
       "    </tr>\n",
       "    <tr>\n",
       "      <th>MaxTemp</th>\n",
       "      <td>0.008669</td>\n",
       "    </tr>\n",
       "    <tr>\n",
       "      <th>Rainfall</th>\n",
       "      <td>0.022419</td>\n",
       "    </tr>\n",
       "    <tr>\n",
       "      <th>Evaporation</th>\n",
       "      <td>0.431665</td>\n",
       "    </tr>\n",
       "    <tr>\n",
       "      <th>Sunshine</th>\n",
       "      <td>0.480098</td>\n",
       "    </tr>\n",
       "    <tr>\n",
       "      <th>WindGustDir</th>\n",
       "      <td>0.070989</td>\n",
       "    </tr>\n",
       "    <tr>\n",
       "      <th>WindGustSpeed</th>\n",
       "      <td>0.070555</td>\n",
       "    </tr>\n",
       "    <tr>\n",
       "      <th>WindDir9am</th>\n",
       "      <td>0.072639</td>\n",
       "    </tr>\n",
       "    <tr>\n",
       "      <th>WindDir3pm</th>\n",
       "      <td>0.029066</td>\n",
       "    </tr>\n",
       "    <tr>\n",
       "      <th>WindSpeed9am</th>\n",
       "      <td>0.012148</td>\n",
       "    </tr>\n",
       "    <tr>\n",
       "      <th>WindSpeed3pm</th>\n",
       "      <td>0.021050</td>\n",
       "    </tr>\n",
       "    <tr>\n",
       "      <th>Humidity9am</th>\n",
       "      <td>0.018246</td>\n",
       "    </tr>\n",
       "    <tr>\n",
       "      <th>Humidity3pm</th>\n",
       "      <td>0.030984</td>\n",
       "    </tr>\n",
       "    <tr>\n",
       "      <th>Pressure9am</th>\n",
       "      <td>0.103568</td>\n",
       "    </tr>\n",
       "    <tr>\n",
       "      <th>Pressure3pm</th>\n",
       "      <td>0.103314</td>\n",
       "    </tr>\n",
       "    <tr>\n",
       "      <th>Cloud9am</th>\n",
       "      <td>0.384216</td>\n",
       "    </tr>\n",
       "    <tr>\n",
       "      <th>Cloud3pm</th>\n",
       "      <td>0.408071</td>\n",
       "    </tr>\n",
       "    <tr>\n",
       "      <th>Temp9am</th>\n",
       "      <td>0.012148</td>\n",
       "    </tr>\n",
       "    <tr>\n",
       "      <th>Temp3pm</th>\n",
       "      <td>0.024811</td>\n",
       "    </tr>\n",
       "    <tr>\n",
       "      <th>RainToday</th>\n",
       "      <td>0.022419</td>\n",
       "    </tr>\n",
       "    <tr>\n",
       "      <th>RainTomorrow</th>\n",
       "      <td>0.022460</td>\n",
       "    </tr>\n",
       "  </tbody>\n",
       "</table>\n",
       "</div>"
      ],
      "text/plain": [
       "               Por_nulos\n",
       "Date            0.000000\n",
       "Location        0.000000\n",
       "MinTemp         0.010209\n",
       "MaxTemp         0.008669\n",
       "Rainfall        0.022419\n",
       "Evaporation     0.431665\n",
       "Sunshine        0.480098\n",
       "WindGustDir     0.070989\n",
       "WindGustSpeed   0.070555\n",
       "WindDir9am      0.072639\n",
       "WindDir3pm      0.029066\n",
       "WindSpeed9am    0.012148\n",
       "WindSpeed3pm    0.021050\n",
       "Humidity9am     0.018246\n",
       "Humidity3pm     0.030984\n",
       "Pressure9am     0.103568\n",
       "Pressure3pm     0.103314\n",
       "Cloud9am        0.384216\n",
       "Cloud3pm        0.408071\n",
       "Temp9am         0.012148\n",
       "Temp3pm         0.024811\n",
       "RainToday       0.022419\n",
       "RainTomorrow    0.022460"
      ]
     },
     "execution_count": 4,
     "metadata": {},
     "output_type": "execute_result"
    }
   ],
   "source": [
    "copy"
   ]
  },
  {
   "cell_type": "code",
   "execution_count": 5,
   "id": "f3ea5696",
   "metadata": {},
   "outputs": [
    {
     "data": {
      "text/plain": [
       "['Date',\n",
       " 'Location',\n",
       " 'MinTemp',\n",
       " 'MaxTemp',\n",
       " 'Rainfall',\n",
       " 'WindGustDir',\n",
       " 'WindGustSpeed',\n",
       " 'WindDir9am',\n",
       " 'WindDir3pm',\n",
       " 'WindSpeed9am',\n",
       " 'WindSpeed3pm',\n",
       " 'Humidity9am',\n",
       " 'Humidity3pm',\n",
       " 'Pressure9am',\n",
       " 'Pressure3pm',\n",
       " 'Temp9am',\n",
       " 'Temp3pm',\n",
       " 'RainToday',\n",
       " 'RainTomorrow']"
      ]
     },
     "execution_count": 5,
     "metadata": {},
     "output_type": "execute_result"
    }
   ],
   "source": [
    "#filtramos los var nulos menores 25% \n",
    "lista=list(copy[copy[\"Por_nulos\"]<0.25].index)\n",
    "lista"
   ]
  },
  {
   "cell_type": "code",
   "execution_count": 6,
   "id": "d6fe9436",
   "metadata": {},
   "outputs": [],
   "source": [
    "#pasamos la lista con el porcetage <25% no valores nulos\n",
    "df=df[lista]"
   ]
  },
  {
   "cell_type": "code",
   "execution_count": 9,
   "id": "830802be",
   "metadata": {},
   "outputs": [
    {
     "data": {
      "text/plain": [
       "(142193, 19)"
      ]
     },
     "execution_count": 9,
     "metadata": {},
     "output_type": "execute_result"
    }
   ],
   "source": [
    "df.shape"
   ]
  },
  {
   "cell_type": "code",
   "execution_count": 8,
   "id": "3fd87bf5",
   "metadata": {},
   "outputs": [],
   "source": [
    "#quitamos los nulos de la target\n",
    "df=df[~df['RainTomorrow'].isnull()]"
   ]
  },
  {
   "cell_type": "code",
   "execution_count": 10,
   "id": "bb76dc50",
   "metadata": {},
   "outputs": [
    {
     "name": "stderr",
     "output_type": "stream",
     "text": [
      "C:\\Users\\loli\\AppData\\Local\\Temp\\ipykernel_4172\\3968678937.py:5: FutureWarning: The default value of numeric_only in DataFrame.mean is deprecated. In a future version, it will default to False. In addition, specifying 'numeric_only=None' is deprecated. Select only valid columns or specify the value of numeric_only to silence this warning.\n",
      "  df.fillna(df.mean(),inplace=True)\n"
     ]
    }
   ],
   "source": [
    "#quitamos los valores mumericos nulos con la media,\n",
    "#en caso de cat var habra que usar la moda \n",
    "#Aqui no se trata de profundizar los methodos de limpieza de datos mas bien el objetivo es \n",
    "#contruir red bayesiana\n",
    "df.fillna(df.mean(),inplace=True)"
   ]
  },
  {
   "cell_type": "markdown",
   "id": "2a47b8a0",
   "metadata": {},
   "source": [
    "Pensamos que para que se produzca la lluvia habra estos factores causales\n",
    "MinTemp,windSpeed3pm/9pm,humidity3pm,Humidity9am.\n",
    "Miramos la informacion mutua de la varibales respecto a la target\n",
    "\n"
   ]
  },
  {
   "cell_type": "markdown",
   "id": "9040eb53",
   "metadata": {},
   "source": [
    "- La información mutua es una buena alternativa al coeficiente de correlación de Pearson, ya que es capaz de medir cualquier tipo de relación entre variables, no solo asociaciones lineales. Y además, es adecuado tanto para variables continuas como discretas, a diferencia del coeficiente de correlación de Pearson."
   ]
  },
  {
   "cell_type": "code",
   "execution_count": 11,
   "id": "00d823e1",
   "metadata": {},
   "outputs": [],
   "source": [
    "from sklearn.feature_selection import mutual_info_classif, mutual_info_regression\n"
   ]
  },
  {
   "cell_type": "code",
   "execution_count": 18,
   "id": "2186d9ec",
   "metadata": {},
   "outputs": [
    {
     "data": {
      "text/plain": [
       "array([0.0631118])"
      ]
     },
     "execution_count": 18,
     "metadata": {},
     "output_type": "execute_result"
    }
   ],
   "source": [
    "#info mutua entre dos variables continuas \n",
    "mutual_info_regression(df['MinTemp'].to_frame(),df['Humidity9am'],discrete_features=[False])"
   ]
  },
  {
   "cell_type": "code",
   "execution_count": 26,
   "id": "54c955a2",
   "metadata": {},
   "outputs": [
    {
     "data": {
      "text/plain": [
       "array([0.02606145])"
      ]
     },
     "execution_count": 26,
     "metadata": {},
     "output_type": "execute_result"
    }
   ],
   "source": [
    "mutual_info_classif(df['WindGustSpeed'].to_frame(),df['RainTomorrow'],discrete_features=[False])"
   ]
  },
  {
   "cell_type": "code",
   "execution_count": 27,
   "id": "7c439a9d",
   "metadata": {},
   "outputs": [
    {
     "data": {
      "text/plain": [
       "array([0.00480041])"
      ]
     },
     "execution_count": 27,
     "metadata": {},
     "output_type": "execute_result"
    }
   ],
   "source": [
    "mutual_info_classif(df['WindSpeed9am'].to_frame(),df['RainTomorrow'],discrete_features=[False])"
   ]
  },
  {
   "cell_type": "code",
   "execution_count": 28,
   "id": "1c436026",
   "metadata": {},
   "outputs": [
    {
     "data": {
      "text/plain": [
       "array([0.11368368])"
      ]
     },
     "execution_count": 28,
     "metadata": {},
     "output_type": "execute_result"
    }
   ],
   "source": [
    "mutual_info_classif(df['Humidity3pm'].to_frame(),df['RainTomorrow'],discrete_features=[False])"
   ]
  },
  {
   "cell_type": "code",
   "execution_count": 29,
   "id": "8919349e",
   "metadata": {},
   "outputs": [
    {
     "data": {
      "text/plain": [
       "array([0.35851658])"
      ]
     },
     "execution_count": 29,
     "metadata": {},
     "output_type": "execute_result"
    }
   ],
   "source": [
    "mutual_info_regression(df['Humidity9am'].to_frame(),df['Humidity3pm'],discrete_features=[False])"
   ]
  },
  {
   "cell_type": "code",
   "execution_count": 31,
   "id": "058b8ab3",
   "metadata": {},
   "outputs": [
    {
     "data": {
      "text/plain": [
       "array([0.05605038])"
      ]
     },
     "execution_count": 31,
     "metadata": {},
     "output_type": "execute_result"
    }
   ],
   "source": [
    "mutual_info_regression(df['WindGustSpeed'].to_frame(),df['Humidity9am'],discrete_features=[False])"
   ]
  },
  {
   "cell_type": "code",
   "execution_count": 82,
   "id": "72ebf64d",
   "metadata": {},
   "outputs": [
    {
     "data": {
      "text/plain": [
       "array([0.05236796])"
      ]
     },
     "execution_count": 82,
     "metadata": {},
     "output_type": "execute_result"
    }
   ],
   "source": [
    "mutual_info_regression(df['WindGustSpeed'].to_frame(),df['MinTemp'],discrete_features=[False])"
   ]
  },
  {
   "cell_type": "code",
   "execution_count": 32,
   "id": "a3f7f854",
   "metadata": {},
   "outputs": [],
   "source": [
    "lista2=['MinTemp','WindGustSpeed','Humidity9am','Humidity3pm','RainTomorrow']"
   ]
  },
  {
   "cell_type": "code",
   "execution_count": 33,
   "id": "5d9f06b5",
   "metadata": {},
   "outputs": [],
   "source": [
    "cp=df[lista2]"
   ]
  },
  {
   "cell_type": "code",
   "execution_count": 34,
   "id": "a7a2b483",
   "metadata": {},
   "outputs": [
    {
     "data": {
      "text/plain": [
       "No     0.775819\n",
       "Yes    0.224181\n",
       "Name: RainTomorrow, dtype: float64"
      ]
     },
     "execution_count": 34,
     "metadata": {},
     "output_type": "execute_result"
    }
   ],
   "source": [
    "#we have 22% de prob que llueva\n",
    "cp.RainTomorrow.value_counts()/cp.shape[0]"
   ]
  },
  {
   "cell_type": "code",
   "execution_count": 42,
   "id": "665f9f1b",
   "metadata": {},
   "outputs": [
    {
     "name": "stderr",
     "output_type": "stream",
     "text": [
      "C:\\Users\\loli\\AppData\\Local\\Temp\\ipykernel_4172\\1540304492.py:1: SettingWithCopyWarning: \n",
      "A value is trying to be set on a copy of a slice from a DataFrame.\n",
      "Try using .loc[row_indexer,col_indexer] = value instead\n",
      "\n",
      "See the caveats in the documentation: https://pandas.pydata.org/pandas-docs/stable/user_guide/indexing.html#returning-a-view-versus-a-copy\n",
      "  cp['Humidity3pmcat']=pd.cut(cp.Humidity3pm,bins=2,labels=['h<=50','h>50'])#.value_counts(normalize=True)\n"
     ]
    }
   ],
   "source": [
    "cp['Humidity3pmcat']=pd.cut(cp.Humidity3pm,bins=2,labels=['h<=50','h>50'])#.value_counts(normalize=True)\n",
    "\n"
   ]
  },
  {
   "cell_type": "code",
   "execution_count": 44,
   "id": "7fcda5af",
   "metadata": {},
   "outputs": [
    {
     "data": {
      "text/plain": [
       "<AxesSubplot: xlabel='Humidity3pmcat', ylabel='count'>"
      ]
     },
     "execution_count": 44,
     "metadata": {},
     "output_type": "execute_result"
    },
    {
     "data": {
      "image/png": "[encoded data removed]",
      "text/plain": [
       "<Figure size 640x480 with 1 Axes>"
      ]
     },
     "metadata": {},
     "output_type": "display_data"
    }
   ],
   "source": [
    "#we havemore chance when humidity is high\n",
    "import seaborn as sns\n",
    "sns.countplot(x=cp.Humidity3pmcat,hue=cp.RainTomorrow)"
   ]
  },
  {
   "cell_type": "code",
   "execution_count": 52,
   "id": "5f37ea1b",
   "metadata": {},
   "outputs": [
    {
     "name": "stderr",
     "output_type": "stream",
     "text": [
      "C:\\Users\\loli\\AppData\\Local\\Temp\\ipykernel_4172\\2927624468.py:1: SettingWithCopyWarning: \n",
      "A value is trying to be set on a copy of a slice from a DataFrame.\n",
      "Try using .loc[row_indexer,col_indexer] = value instead\n",
      "\n",
      "See the caveats in the documentation: https://pandas.pydata.org/pandas-docs/stable/user_guide/indexing.html#returning-a-view-versus-a-copy\n",
      "  cp['Humidity9amcat']=pd.cut(cp['Humidity9am'],bins=2,labels=['h9a<=50','h9a>50'])\n"
     ]
    }
   ],
   "source": [
    "cp['Humidity9amcat']=pd.cut(cp['Humidity9am'],bins=2,labels=['h9a<=50','h9a>50'])"
   ]
  },
  {
   "cell_type": "code",
   "execution_count": 53,
   "id": "c9fd9c69",
   "metadata": {},
   "outputs": [
    {
     "data": {
      "text/plain": [
       "<AxesSubplot: xlabel='Humidity9amcat', ylabel='count'>"
      ]
     },
     "execution_count": 53,
     "metadata": {},
     "output_type": "execute_result"
    },
    {
     "data": {
      "image/png": "[encoded data removed]",
      "text/plain": [
       "<Figure size 640x480 with 1 Axes>"
      ]
     },
     "metadata": {},
     "output_type": "display_data"
    }
   ],
   "source": [
    "sns.countplot(x=cp.Humidity9amcat,hue=cp.RainTomorrow)"
   ]
  },
  {
   "cell_type": "code",
   "execution_count": 65,
   "id": "dccd1382",
   "metadata": {},
   "outputs": [
    {
     "data": {
      "text/plain": [
       "(5.871, 38.25]     65484\n",
       "(38.25, 70.5]      72948\n",
       "(70.5, 102.75]      3669\n",
       "(102.75, 135.0]       92\n",
       "Name: WindGustSpeed, dtype: int64"
      ]
     },
     "execution_count": 65,
     "metadata": {},
     "output_type": "execute_result"
    }
   ],
   "source": [
    "\n",
    "pd.cut(cp['WindGustSpeed'],bins=4).value_counts().sort_index()"
   ]
  },
  {
   "cell_type": "code",
   "execution_count": 67,
   "id": "08525aa3",
   "metadata": {},
   "outputs": [
    {
     "name": "stderr",
     "output_type": "stream",
     "text": [
      "C:\\Users\\loli\\AppData\\Local\\Temp\\ipykernel_4172\\350633633.py:2: SettingWithCopyWarning: \n",
      "A value is trying to be set on a copy of a slice from a DataFrame.\n",
      "Try using .loc[row_indexer,col_indexer] = value instead\n",
      "\n",
      "See the caveats in the documentation: https://pandas.pydata.org/pandas-docs/stable/user_guide/indexing.html#returning-a-view-versus-a-copy\n",
      "  cp['WindGustSpeedcat']=pd.cut(cp['WindGustSpeed'],bins=bins,labels=['W<=39','39<W<=71','W>71'])\n"
     ]
    }
   ],
   "source": [
    "bins = pd.IntervalIndex.from_tuples([(5.871, 39), (39, 71), (71, 135)])\n",
    "cp['WindGustSpeedcat']=pd.cut(cp['WindGustSpeed'],bins=bins,labels=['W<=39','39<W<=71','W>71'])"
   ]
  },
  {
   "cell_type": "code",
   "execution_count": 69,
   "id": "357b54c3",
   "metadata": {},
   "outputs": [
    {
     "data": {
      "text/plain": [
       "<AxesSubplot: xlabel='WindGustSpeedcat', ylabel='count'>"
      ]
     },
     "execution_count": 69,
     "metadata": {},
     "output_type": "execute_result"
    },
    {
     "data": {
      "image/png": "[encoded data removed]",
      "text/plain": [
       "<Figure size 640x480 with 1 Axes>"
      ]
     },
     "metadata": {},
     "output_type": "display_data"
    }
   ],
   "source": [
    "sns.countplot(x=cp.WindGustSpeedcat,hue=cp.RainTomorrow)"
   ]
  },
  {
   "cell_type": "code",
   "execution_count": 72,
   "id": "70dcbfd2",
   "metadata": {
    "scrolled": true
   },
   "outputs": [
    {
     "data": {
      "text/plain": [
       "(-8.542, 12.7]    0.544394\n",
       "(12.7, 33.9]      0.455606\n",
       "Name: MinTemp, dtype: float64"
      ]
     },
     "execution_count": 72,
     "metadata": {},
     "output_type": "execute_result"
    }
   ],
   "source": [
    "pd.cut(cp.MinTemp,bins=2,).value_counts(normalize=True)#labels=['temp<=12.7','12.7<temp<33.9'])"
   ]
  },
  {
   "cell_type": "code",
   "execution_count": 74,
   "id": "7728980a",
   "metadata": {},
   "outputs": [
    {
     "name": "stderr",
     "output_type": "stream",
     "text": [
      "C:\\Users\\loli\\AppData\\Local\\Temp\\ipykernel_4172\\1929450297.py:1: SettingWithCopyWarning: \n",
      "A value is trying to be set on a copy of a slice from a DataFrame.\n",
      "Try using .loc[row_indexer,col_indexer] = value instead\n",
      "\n",
      "See the caveats in the documentation: https://pandas.pydata.org/pandas-docs/stable/user_guide/indexing.html#returning-a-view-versus-a-copy\n",
      "  cp['MinTempcat']=pd.cut(cp.MinTemp,bins=2,labels=['T<=12.7','T>12.7'])\n"
     ]
    }
   ],
   "source": [
    "cp['MinTempcat']=pd.cut(cp.MinTemp,bins=2,labels=['T<=12.7','T>12.7'])"
   ]
  },
  {
   "cell_type": "code",
   "execution_count": 75,
   "id": "cb299511",
   "metadata": {},
   "outputs": [
    {
     "data": {
      "text/plain": [
       "<AxesSubplot: xlabel='MinTempcat', ylabel='count'>"
      ]
     },
     "execution_count": 75,
     "metadata": {},
     "output_type": "execute_result"
    },
    {
     "data": {
      "image/png": "[encoded data removed]",
      "text/plain": [
       "<Figure size 640x480 with 1 Axes>"
      ]
     },
     "metadata": {},
     "output_type": "display_data"
    }
   ],
   "source": [
    "sns.countplot(x=cp.MinTempcat,hue=cp.RainTomorrow)"
   ]
  },
  {
   "cell_type": "code",
   "execution_count": 76,
   "id": "8981f21c",
   "metadata": {
    "scrolled": true
   },
   "outputs": [],
   "source": [
    "#cp.isnull().sum()\n",
    "cp.to_csv('new_format.csv')"
   ]
  },
  {
   "cell_type": "markdown",
   "id": "dca27d03",
   "metadata": {},
   "source": [
    "## Setting up Bayesian Belief Network\n"
   ]
  },
  {
   "cell_type": "markdown",
   "id": "7d840658",
   "metadata": {},
   "source": [
    "### Vamos a calcular las probabilidades marginales"
   ]
  },
  {
   "cell_type": "code",
   "execution_count": 77,
   "id": "e8a589c6",
   "metadata": {},
   "outputs": [
    {
     "data": {
      "text/plain": [
       "(5.871, 39.0]    0.521404\n",
       "(39.0, 71.0]     0.452146\n",
       "(71.0, 135.0]    0.026450\n",
       "Name: WindGustSpeedcat, dtype: float64"
      ]
     },
     "execution_count": 77,
     "metadata": {},
     "output_type": "execute_result"
    }
   ],
   "source": [
    " cp.WindGustSpeedcat.value_counts(normalize=True)"
   ]
  },
  {
   "cell_type": "code",
   "execution_count": 78,
   "id": "d8816f3c",
   "metadata": {},
   "outputs": [
    {
     "data": {
      "text/plain": [
       "h>50     0.538803\n",
       "h<=50    0.461197\n",
       "Name: Humidity3pmcat, dtype: float64"
      ]
     },
     "execution_count": 78,
     "metadata": {},
     "output_type": "execute_result"
    }
   ],
   "source": [
    "cp.Humidity3pmcat.value_counts(normalize=True)"
   ]
  },
  {
   "cell_type": "code",
   "execution_count": 79,
   "id": "68dea322",
   "metadata": {},
   "outputs": [
    {
     "data": {
      "text/plain": [
       "h9a>50     0.84092\n",
       "h9a<=50    0.15908\n",
       "Name: Humidity9amcat, dtype: float64"
      ]
     },
     "execution_count": 79,
     "metadata": {},
     "output_type": "execute_result"
    }
   ],
   "source": [
    "cp.Humidity9amcat.value_counts(normalize=True)"
   ]
  },
  {
   "cell_type": "code",
   "execution_count": 80,
   "id": "c5e347ee",
   "metadata": {},
   "outputs": [
    {
     "data": {
      "text/plain": [
       "T<=12.7    0.544394\n",
       "T>12.7     0.455606\n",
       "Name: MinTempcat, dtype: float64"
      ]
     },
     "execution_count": 80,
     "metadata": {},
     "output_type": "execute_result"
    }
   ],
   "source": [
    "cp.MinTempcat.value_counts(normalize=True)"
   ]
  },
  {
   "cell_type": "code",
   "execution_count": 81,
   "id": "4e066396",
   "metadata": {},
   "outputs": [
    {
     "data": {
      "text/plain": [
       "No     0.775819\n",
       "Yes    0.224181\n",
       "Name: RainTomorrow, dtype: float64"
      ]
     },
     "execution_count": 81,
     "metadata": {},
     "output_type": "execute_result"
    }
   ],
   "source": [
    "cp.RainTomorrow.value_counts(normalize=True)"
   ]
  },
  {
   "cell_type": "markdown",
   "id": "adc6dc8a",
   "metadata": {},
   "source": [
    "DAG IS LOOK LIKE :CUASAL\n",
    "    \n",
    "  MinTempcat->Humidity9amcat->Humidity3pmcat->RainTomorrow\n",
    "   MinTempcat->WindSpeed9amcat->RainTomorrow\n",
    "   "
   ]
  },
  {
   "cell_type": "markdown",
   "id": "87f7e577",
   "metadata": {},
   "source": [
    "- Ahora hay que calcular las probabilad P(H|D)=P(D|H)P(H)P(D)\n",
    "- Una forma sencilla es utilizar pandas corsstable"
   ]
  },
  {
   "cell_type": "code",
   "execution_count": 85,
   "id": "9431b694",
   "metadata": {},
   "outputs": [
    {
     "data": {
      "text/html": [
       "<div>\n",
       "<style scoped>\n",
       "    .dataframe tbody tr th:only-of-type {\n",
       "        vertical-align: middle;\n",
       "    }\n",
       "\n",
       "    .dataframe tbody tr th {\n",
       "        vertical-align: top;\n",
       "    }\n",
       "\n",
       "    .dataframe thead th {\n",
       "        text-align: right;\n",
       "    }\n",
       "</style>\n",
       "<table border=\"1\" class=\"dataframe\">\n",
       "  <thead>\n",
       "    <tr style=\"text-align: right;\">\n",
       "      <th>Humidity9amcat</th>\n",
       "      <th>h9a&lt;=50</th>\n",
       "      <th>h9a&gt;50</th>\n",
       "    </tr>\n",
       "    <tr>\n",
       "      <th>MinTempcat</th>\n",
       "      <th></th>\n",
       "      <th></th>\n",
       "    </tr>\n",
       "  </thead>\n",
       "  <tbody>\n",
       "    <tr>\n",
       "      <th>T&lt;=12.7</th>\n",
       "      <td>0.124197</td>\n",
       "      <td>0.875803</td>\n",
       "    </tr>\n",
       "    <tr>\n",
       "      <th>T&gt;12.7</th>\n",
       "      <td>0.200759</td>\n",
       "      <td>0.799241</td>\n",
       "    </tr>\n",
       "  </tbody>\n",
       "</table>\n",
       "</div>"
      ],
      "text/plain": [
       "Humidity9amcat   h9a<=50    h9a>50\n",
       "MinTempcat                        \n",
       "T<=12.7         0.124197  0.875803\n",
       "T>12.7          0.200759  0.799241"
      ]
     },
     "execution_count": 85,
     "metadata": {},
     "output_type": "execute_result"
    }
   ],
   "source": [
    "pd.crosstab(cp['MinTempcat'],cp['Humidity9amcat'], margins=False,normalize='index' ).sort_index()"
   ]
  },
  {
   "cell_type": "code",
   "execution_count": 92,
   "id": "3816f14f",
   "metadata": {},
   "outputs": [
    {
     "data": {
      "text/html": [
       "<div>\n",
       "<style scoped>\n",
       "    .dataframe tbody tr th:only-of-type {\n",
       "        vertical-align: middle;\n",
       "    }\n",
       "\n",
       "    .dataframe tbody tr th {\n",
       "        vertical-align: top;\n",
       "    }\n",
       "\n",
       "    .dataframe thead th {\n",
       "        text-align: right;\n",
       "    }\n",
       "</style>\n",
       "<table border=\"1\" class=\"dataframe\">\n",
       "  <thead>\n",
       "    <tr style=\"text-align: right;\">\n",
       "      <th>Humidity3pmcat</th>\n",
       "      <th>h&lt;=50</th>\n",
       "      <th>h&gt;50</th>\n",
       "    </tr>\n",
       "    <tr>\n",
       "      <th>Humidity9amcat</th>\n",
       "      <th></th>\n",
       "      <th></th>\n",
       "    </tr>\n",
       "  </thead>\n",
       "  <tbody>\n",
       "    <tr>\n",
       "      <th>h9a&lt;=50</th>\n",
       "      <td>0.903404</td>\n",
       "      <td>0.096596</td>\n",
       "    </tr>\n",
       "    <tr>\n",
       "      <th>h9a&gt;50</th>\n",
       "      <td>0.377543</td>\n",
       "      <td>0.622457</td>\n",
       "    </tr>\n",
       "  </tbody>\n",
       "</table>\n",
       "</div>"
      ],
      "text/plain": [
       "Humidity3pmcat     h<=50      h>50\n",
       "Humidity9amcat                    \n",
       "h9a<=50         0.903404  0.096596\n",
       "h9a>50          0.377543  0.622457"
      ]
     },
     "execution_count": 92,
     "metadata": {},
     "output_type": "execute_result"
    }
   ],
   "source": [
    "# CALCULAR P(HUMI3AMCAT|HUMI9AMCAT)\n",
    "#\n",
    "\n",
    "#By default, computes a frequency table of the factors unless an\n",
    "#array of values and an aggregation function are passed.\n",
    "pd.crosstab(cp['Humidity9amcat'],cp['Humidity3pmcat'], margins=False,normalize='index' )"
   ]
  },
  {
   "cell_type": "code",
   "execution_count": 86,
   "id": "ef84de68",
   "metadata": {},
   "outputs": [
    {
     "data": {
      "text/html": [
       "<div>\n",
       "<style scoped>\n",
       "    .dataframe tbody tr th:only-of-type {\n",
       "        vertical-align: middle;\n",
       "    }\n",
       "\n",
       "    .dataframe tbody tr th {\n",
       "        vertical-align: top;\n",
       "    }\n",
       "\n",
       "    .dataframe thead th {\n",
       "        text-align: right;\n",
       "    }\n",
       "</style>\n",
       "<table border=\"1\" class=\"dataframe\">\n",
       "  <thead>\n",
       "    <tr style=\"text-align: right;\">\n",
       "      <th></th>\n",
       "      <th>RainTomorrow</th>\n",
       "      <th>No</th>\n",
       "      <th>Yes</th>\n",
       "    </tr>\n",
       "    <tr>\n",
       "      <th>Humidity3pmcat</th>\n",
       "      <th>WindGustSpeedcat</th>\n",
       "      <th></th>\n",
       "      <th></th>\n",
       "    </tr>\n",
       "  </thead>\n",
       "  <tbody>\n",
       "    <tr>\n",
       "      <th rowspan=\"3\" valign=\"top\">h&lt;=50</th>\n",
       "      <th>(5.871, 39.0]</th>\n",
       "      <td>0.956692</td>\n",
       "      <td>0.043308</td>\n",
       "    </tr>\n",
       "    <tr>\n",
       "      <th>(39.0, 71.0]</th>\n",
       "      <td>0.894021</td>\n",
       "      <td>0.105979</td>\n",
       "    </tr>\n",
       "    <tr>\n",
       "      <th>(71.0, 135.0]</th>\n",
       "      <td>0.698830</td>\n",
       "      <td>0.301170</td>\n",
       "    </tr>\n",
       "    <tr>\n",
       "      <th rowspan=\"3\" valign=\"top\">h&gt;50</th>\n",
       "      <th>(5.871, 39.0]</th>\n",
       "      <td>0.747271</td>\n",
       "      <td>0.252729</td>\n",
       "    </tr>\n",
       "    <tr>\n",
       "      <th>(39.0, 71.0]</th>\n",
       "      <td>0.563856</td>\n",
       "      <td>0.436144</td>\n",
       "    </tr>\n",
       "    <tr>\n",
       "      <th>(71.0, 135.0]</th>\n",
       "      <td>0.258898</td>\n",
       "      <td>0.741102</td>\n",
       "    </tr>\n",
       "  </tbody>\n",
       "</table>\n",
       "</div>"
      ],
      "text/plain": [
       "RainTomorrow                           No       Yes\n",
       "Humidity3pmcat WindGustSpeedcat                    \n",
       "h<=50          (5.871, 39.0]     0.956692  0.043308\n",
       "               (39.0, 71.0]      0.894021  0.105979\n",
       "               (71.0, 135.0]     0.698830  0.301170\n",
       "h>50           (5.871, 39.0]     0.747271  0.252729\n",
       "               (39.0, 71.0]      0.563856  0.436144\n",
       "               (71.0, 135.0]     0.258898  0.741102"
      ]
     },
     "execution_count": 86,
     "metadata": {},
     "output_type": "execute_result"
    }
   ],
   "source": [
    "pd.crosstab([cp['Humidity3pmcat'],cp['WindGustSpeedcat']],cp['RainTomorrow'] ,margins=False,normalize='index' )#.sort_index().to_numpy().reshape(-1).tolist()"
   ]
  },
  {
   "cell_type": "code",
   "execution_count": 87,
   "id": "89798567",
   "metadata": {},
   "outputs": [],
   "source": [
    "#Esta funcion nos ayuda a calcualr la probabilidad condicionada\n",
    "def probCond(df,hijo,padre1=None,padre2=None):\n",
    "    #no tiene padre o es raiz\n",
    "    if(padre1==None):\n",
    "        prob=pd.crosstab(df[hijo],'Empty',normalize='columns').sort_index().to_numpy().reshape(-1).tolist()\n",
    "    elif padre1!=None:\n",
    "            if padre2==None :\n",
    "                        prob=pd.crosstab(df[padre1],df[hijo],normalize='index').sort_index().to_numpy().reshape(-1).tolist()\n",
    "            else:\n",
    "                        prob=pd.crosstab([df[padre1],df[padre2]],df[hijo],normalize='index').sort_index().to_numpy().reshape(-1).tolist()\n",
    "    else:\n",
    "        print(\"hay un error en precesar el calculo \")\n",
    "    return prob       "
   ]
  },
  {
   "cell_type": "code",
   "execution_count": 89,
   "id": "644881b5",
   "metadata": {},
   "outputs": [
    {
     "data": {
      "text/plain": [
       "[0.956692455354546,\n",
       " 0.04330754464545402,\n",
       " 0.894021094041442,\n",
       " 0.10597890595855801,\n",
       " 0.6988304093567251,\n",
       " 0.30116959064327486,\n",
       " 0.7472709894863927,\n",
       " 0.2527290105136073,\n",
       " 0.5638557678494469,\n",
       " 0.4361442321505531,\n",
       " 0.25889809848854217,\n",
       " 0.7411019015114578]"
      ]
     },
     "execution_count": 89,
     "metadata": {},
     "output_type": "execute_result"
    }
   ],
   "source": [
    "p=probCond(cp,hijo='RainTomorrow',padre1='Humidity3pmcat',padre2='WindGustSpeedcat')\n",
    "p"
   ]
  },
  {
   "cell_type": "code",
   "execution_count": 98,
   "id": "7cbb0926",
   "metadata": {},
   "outputs": [
    {
     "data": {
      "text/plain": [
       "(5.871, 39.0]    74140\n",
       "(39.0, 71.0]     64292\n",
       "(71.0, 135.0]     3761\n",
       "Name: WindGustSpeedcat, dtype: int64"
      ]
     },
     "execution_count": 98,
     "metadata": {},
     "output_type": "execute_result"
    }
   ],
   "source": [
    "cp.WindGustSpeedcat.value_counts()"
   ]
  },
  {
   "cell_type": "code",
   "execution_count": 143,
   "id": "785785da",
   "metadata": {},
   "outputs": [],
   "source": [
    "#construir la red beyesiana\n",
    "T=  BbnNode(Variable(0, 'MinTemp',['T<=12.7' , 'T>12.7']), probCond(cp,hijo='MinTempcat'))\n",
    "X = BbnNode(Variable(1, 'H9amcat', ['h9a<=50' , 'h9a>50']), probCond(cp,hijo='Humidity9amcat',padre1='MinTempcat'))\n",
    "Y = BbnNode(Variable(2, 'H3pmcat', ['h<=50' , 'h>50']),probCond(cp,hijo='Humidity3pmcat',padre1='Humidity9amcat'))\n",
    "\n",
    "Z = BbnNode(Variable(3, 'wind', ['(5.871, 39.0]' , '(39.0, 71.0]' , '(71.0, 135.0]']),probCond(cp,hijo='WindGustSpeedcat',padre1='MinTempcat'))\n",
    "V=  BbnNode(Variable(4, 'Rain', ['No', 'Yes']),probCond(cp,hijo='RainTomorrow',padre1='WindGustSpeedcat',padre2='Humidity3pmcat'))\n",
    "\n",
    "# create the network structure\n",
    "bbn = Bbn() \\\n",
    "    .add_node(T) \\\n",
    "    .add_node(X) \\\n",
    "    .add_node(Y) \\\n",
    "    .add_node(Z) \\\n",
    "    .add_node(V) \\\n",
    "    .add_edge(Edge(T, X, EdgeType.DIRECTED)) \\\n",
    "    .add_edge(Edge(X, Y, EdgeType.DIRECTED)) \\\n",
    "    .add_edge(Edge(Y, V, EdgeType.DIRECTED)) \\\n",
    "    .add_edge(Edge(T, Z, EdgeType.DIRECTED)) \\\n",
    "    .add_edge(Edge(Z, V, EdgeType.DIRECTED)) \n",
    "# convert the BBN to a join tree\n",
    "join_tree = InferenceController.apply(bbn)"
   ]
  },
  {
   "cell_type": "code",
   "execution_count": 149,
   "id": "56f80aef",
   "metadata": {},
   "outputs": [
    {
     "data": {
      "image/png": "[encoded data removed]",
      "text/plain": [
       "<Figure size 640x480 with 1 Axes>"
      ]
     },
     "metadata": {},
     "output_type": "display_data"
    }
   ],
   "source": [
    "#dibujar el grafo\n",
    "import numpy as np\n",
    "\n",
    "from pybbn.generator.bbngenerator import convert_for_drawing\n",
    "n, d = bbn.to_nx_graph()\n",
    "nx.draw(nx_graph,with_labels=True,labels=d)"
   ]
  },
  {
   "cell_type": "code",
   "execution_count": 150,
   "id": "43b3b4ff",
   "metadata": {},
   "outputs": [
    {
     "name": "stdout",
     "output_type": "stream",
     "text": [
      "Node: 2|H3pmcat|h<=50,h>50\n",
      "Values:\n",
      "2=h<=50|0.46120\n",
      "2=h>50|0.53880\n",
      "Node: 3|wind|(5.871, 39.0],(39.0, 71.0],(71.0, 135.0]\n",
      "Values:\n",
      "3=(5.871, 39.0]|0.52140\n",
      "3=(39.0, 71.0]|0.45215\n",
      "3=(71.0, 135.0]|0.02645\n",
      "Node: 4|Rain|No,Yes\n",
      "Values:\n",
      "4=No|0.72876\n",
      "4=Yes|0.27124\n",
      "Node: 0|MinTemp|T<=12.7,T>12.7\n",
      "Values:\n",
      "0=T<=12.7|0.54439\n",
      "0=T>12.7|0.45561\n",
      "Node: 1|H9amcat|h9a<=50,h9a>50\n",
      "Values:\n",
      "1=h9a<=50|0.15908\n",
      "1=h9a>50|0.84092\n"
     ]
    }
   ],
   "source": [
    "# print the  probabilities for each node\n",
    "for node in join_tree.get_bbn_nodes():\n",
    "    print(\"Node:\", node)\n",
    "    print(\"Values:\") \n",
    "    print(join_tree.get_bbn_potential(node))"
   ]
  },
  {
   "cell_type": "markdown",
   "id": "e49554b7",
   "metadata": {},
   "source": [
    "Con esa configuracion tenemos la prob que lleva es 27% es un poco mejor de la original 22%"
   ]
  },
  {
   "cell_type": "markdown",
   "id": "5eaf782f",
   "metadata": {},
   "source": [
    "### vamos a crear una evidencia y vemos como afecta a la red \n",
    "por ejemplo nodo 0 E={H9amcat=h9a>50,wind='(39.0, 71.0]'}"
   ]
  },
  {
   "cell_type": "code",
   "execution_count": 159,
   "id": "ac273db7",
   "metadata": {},
   "outputs": [],
   "source": [
    "#ANTES CREAMOS UNA FUNCION QUE IMPRIMA LA PROBABILIDADES DE LOS NODOS\n",
    "def print_prob():\n",
    "    for node in join_tree.get_bbn_nodes():\n",
    "        print(\"Node:\", node)\n",
    "        print(\"Values:\") \n",
    "        print(join_tree.get_bbn_potential(node))\n",
    " "
   ]
  },
  {
   "cell_type": "code",
   "execution_count": 152,
   "id": "dbaea7df",
   "metadata": {},
   "outputs": [],
   "source": [
    "def print_prob2():\n",
    "    for node, posteriors in join_tree.get_posteriors().items():\n",
    "        p = ', '.join([f'{val}={prob:.5f}' for val, prob in posteriors.items()])\n",
    "        print(f'{node} : {p}')"
   ]
  },
  {
   "cell_type": "code",
   "execution_count": 155,
   "id": "e26bb97d",
   "metadata": {},
   "outputs": [],
   "source": [
    "# insert an observation evidence\n",
    "#cat=categoria\n",
    "#por=porcentaje\n",
    "def evidencia(n_ev,nodo,cat,por):\n",
    "    n_ev = EvidenceBuilder() \\\n",
    "            .with_node(join_tree.get_bbn_node_by_name(nodo)) \\\n",
    "            .with_evidence(cat, por) \\\n",
    "            .build()\n",
    "    join_tree.set_observation(n_ev)\n"
   ]
  },
  {
   "cell_type": "code",
   "execution_count": 164,
   "id": "2ffc4a8b",
   "metadata": {},
   "outputs": [
    {
     "name": "stdout",
     "output_type": "stream",
     "text": [
      "Node: 2|H3pmcat|h<=50,h>50\n",
      "Values:\n",
      "2=h<=50|0.37754\n",
      "2=h>50|0.62246\n",
      "Node: 3|wind|(5.871, 39.0],(39.0, 71.0],(71.0, 135.0]\n",
      "Values:\n",
      "3=(5.871, 39.0]|0.00000\n",
      "3=(39.0, 71.0]|0.00000\n",
      "3=(71.0, 135.0]|1.00000\n",
      "Node: 4|Rain|No,Yes\n",
      "Values:\n",
      "4=No|0.49868\n",
      "4=Yes|0.50132\n",
      "Node: 0|MinTemp|T<=12.7,T>12.7\n",
      "Values:\n",
      "0=T<=12.7|0.57947\n",
      "0=T>12.7|0.42053\n",
      "Node: 1|H9amcat|h9a<=50,h9a>50\n",
      "Values:\n",
      "1=h9a<=50|0.00000\n",
      "1=h9a>50|1.00000\n"
     ]
    }
   ],
   "source": [
    "evidencia('ev5','MinTemp','T<=12.7',1.0)\n",
    "#evidencia('ev7','H9amcat','h9a>50',1.0)\n",
    "evidencia('ev6','wind','(71.0, 135.0]',1.0)\n",
    "#evidencia('ev3','wind3pm','W>43',1.0)\n",
    "\n",
    "print_prob()"
   ]
  }
 ],
 "metadata": {
  "kernelspec": {
   "display_name": "Python 3 (ipykernel)",
   "language": "python",
   "name": "python3"
  },
  "language_info": {
   "codemirror_mode": {
    "name": "ipython",
    "version": 3
   },
   "file_extension": ".py",
   "mimetype": "text/x-python",
   "name": "python",
   "nbconvert_exporter": "python",
   "pygments_lexer": "ipython3",
   "version": "3.8.13"
  }
 },
 "nbformat": 4,
 "nbformat_minor": 5
}
